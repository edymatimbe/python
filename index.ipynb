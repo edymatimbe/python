{
 "cells": [
  {
   "cell_type": "code",
   "execution_count": null,
   "metadata": {},
   "outputs": [],
   "source": [
    "myDogs = [\"Edy\", \"Matimbe\"]\n",
    "myNumbers = 10\n",
    "myText = \"We're python Bro\"\n",
    "myObject = {\"name\": \"Paul\", \"age\": 35}\n",
    "\n",
    "print()\n"
   ]
  },
  {
   "cell_type": "code",
   "execution_count": null,
   "metadata": {},
   "outputs": [],
   "source": [
    "# 15. Introduction to Strings\n",
    "\n",
    "print(\"Hello World\")\n",
    "print(\"------------------------------------\")\n",
    "print(\"It's my first python App\")\n",
    "print(\"------------------------------------\")\n",
    "\n",
    "# We use \\n to break a line in python\n",
    "print(\"Hello\\nWorld of Python\")\n",
    "\n",
    "# We use \\t to tab space python\n",
    "print(\"Hello\\tWorld of Python\")\n",
    "\n",
    "# We use type() to return the type\n",
    "len(\"This is life\")\n",
    "\n",
    "# We use len() to to return the lenght of the word or list\n",
    "len(\"This is life\")"
   ]
  },
  {
   "cell_type": "code",
   "execution_count": null,
   "metadata": {},
   "outputs": [],
   "source": [
    "# 16. Indexing and Slicing with Strings\n",
    "myString = \"Hello World\"\n",
    "\n",
    "myString[0]\n",
    "myString[8]\n",
    "\n",
    "myString[-1]\n",
    "myString[-8]\n",
    "\n",
    "myString = \"abcdefghijklmno\"\n",
    "\n",
    "# Split the word since the indexed position to the end [3:] not include the indexed position\n",
    "myString[3:]\n",
    "\n",
    "# Split the word since the begining until indexed position [:3] not include the indexed position\n",
    "myString[:3]\n",
    "\n",
    "# Split the word since the begining indexed until ended indexed\n",
    "myString[3: 6]\n",
    "\n",
    "# Split returns all text but add 2 since the second index \n",
    "myString[::2]\n",
    "\n",
    "# Split returns all in the current condition\n",
    "myString[\"start\":\"size\":\"step size\"]\n",
    "\n",
    "# Split returns all text but add 2 since the second index in the reverse\n",
    "myString[::-2]\n",
    "\n",
    "\n",
    "\n",
    "# "
   ]
  },
  {
   "cell_type": "code",
   "execution_count": null,
   "metadata": {},
   "outputs": [],
   "source": []
  },
  {
   "cell_type": "code",
   "execution_count": null,
   "metadata": {},
   "outputs": [],
   "source": [
    "# 17. String Properties and Methods\n",
    "x = \"hello world\"\n",
    "\n",
    "# + signal concatenates only strings\n",
    "(x[0].upper() + x[1:])\n",
    "\n",
    "# split Allow us to split a character split(), empty split it will transfor to list using space\n",
    "y = \"More Life\"\n",
    "y.split()"
   ]
  },
  {
   "cell_type": "code",
   "execution_count": null,
   "metadata": {},
   "outputs": [],
   "source": [
    "# 19. Print Formatting with Strings\n",
    "\n",
    "# print(\"Testing formats {} {}\".format('of formating', 'text lines'))\n",
    "\n",
    "# .format using key value pair\n",
    "# print(\"Testing formats {te} {of}\".format(of ='of formating', te ='text lines'))\n",
    "\n",
    "# .format using using float values {value:width.precision f}\n",
    "result = 100/777\n",
    "\n",
    "print(\"The result is equal to {r:1.3f}\".format(r = result))\n",
    "\n",
    "# .format using new ways of doing it\n",
    "name = \"Edy\"\n",
    "\n",
    "print(f\"My name is {name}\")"
   ]
  },
  {
   "cell_type": "code",
   "execution_count": 7,
   "metadata": {
    "tags": []
   },
   "outputs": [
    {
     "data": {
      "text/plain": [
       "['e', 'd', 'c', 'b', 'a']"
      ]
     },
     "execution_count": 7,
     "metadata": {},
     "output_type": "execute_result"
    }
   ],
   "source": [
    "# 21. Lists in Python\n",
    "your_list = [1, 2, 3]\n",
    "\n",
    "# Mixing different data types\n",
    "my_list = ['String', 100, 23.2]\n",
    "\n",
    "# Size of array list\n",
    "len(my_list)\n",
    "\n",
    "# Mutating index[0]\n",
    "my_list[0] = 'Changing List'\n",
    "\n",
    "# concatenate\n",
    "new_list = my_list + your_list\n",
    "\n",
    "# Appending a new value to a list\n",
    "new_list.append(4)\n",
    "\n",
    "# removesthe last value from a list if we want to remove from a certain position insert the index in the pop()\n",
    "new_list.pop()\n",
    "\n",
    "# sort\n",
    "sort_list = ['a', 'c','e', 'b', 'd']\n",
    "\n",
    "sort_list.sort()\n",
    "\n",
    "my_sorted_list = sort_list\n",
    "\n",
    "type(my_sorted_list)\n",
    "\n",
    "# Setting the list in the reverse\n",
    "sort_list.reverse()\n",
    "\n",
    "sort_list\n",
    "# NoneType"
   ]
  },
  {
   "cell_type": "code",
   "execution_count": 20,
   "metadata": {},
   "outputs": [
    {
     "data": {
      "text/plain": [
       "dict_items([('name', 'Edy'), ('aspect', ['black', 'male']), ('phisic', {'height': 1.75, 'weight': 50}), ('gender', 'male')])"
      ]
     },
     "execution_count": 20,
     "metadata": {},
     "output_type": "execute_result"
    }
   ],
   "source": [
    "# 23. Dictionaries in Python\n",
    "my_dict = {\n",
    "  \"name\": 'Edy'\n",
    "}\n",
    "\n",
    "my_dict['name']\n",
    "\n",
    "# \n",
    "prices_lookup = {\n",
    "  'apple': 2.99,\n",
    "  'milk': 5.80,\n",
    "  'oranges': 1.99\n",
    "}\n",
    "\n",
    "# Dictionary with Nested values\n",
    "Dict_nary = {\n",
    "  'name': 'Edy',\n",
    "  'aspect': ['black', 'male'],\n",
    "  'phisic': {\n",
    "    'height': 1.75,\n",
    "    'weight': 50\n",
    "  }\n",
    "}\n",
    "\n",
    "Dict_nary['phisic']['weight']\n",
    "\n",
    "# Add a new key value pair to any dictionary\n",
    "Dict_nary['gender'] = 'male'\n",
    "\n",
    "# Pick all keys values\n",
    "Dict_nary.values()\n",
    "\n",
    "# Pick all keys\n",
    "Dict_nary.keys()\n",
    "\n",
    "# Call all dictionary  utems\n",
    "Dict_nary.items()\n"
   ]
  },
  {
   "cell_type": "code",
   "execution_count": 29,
   "metadata": {},
   "outputs": [
    {
     "data": {
      "text/plain": [
       "2"
      ]
     },
     "execution_count": 29,
     "metadata": {},
     "output_type": "execute_result"
    }
   ],
   "source": [
    "# 25. Tuples with Python tuples uses parenthesis\n",
    "new_tuple = (1, 2, 3, 'this tuple is strange', 3, 2, 1)\n",
    "# COunt how many times appeas\n",
    "new_tuple.count(1)\n",
    "\n",
    "# show thw index of the value\n",
    "new_tuple.index(3)\n",
    "\n"
   ]
  },
  {
   "cell_type": "code",
   "execution_count": 33,
   "metadata": {},
   "outputs": [
    {
     "data": {
      "text/plain": [
       "{1, 2, 3, 4, 5}"
      ]
     },
     "execution_count": 33,
     "metadata": {},
     "output_type": "execute_result"
    }
   ],
   "source": [
    "# 26. Sets in Python\n",
    "myset = set()\n",
    "\n",
    "myset.add(1)\n",
    "\n",
    "myset.add(2)\n",
    "\n",
    "my_list = [1,1,1,1,1,2,2,2,2,2,3,3,3,3,3,4,4,4,4,4,5,5,5,5]\n",
    "set(my_list)"
   ]
  },
  {
   "cell_type": "code",
   "execution_count": null,
   "metadata": {},
   "outputs": [],
   "source": [
    "# 27. Booleans in Python\n"
   ]
  }
 ],
 "metadata": {
  "kernelspec": {
   "display_name": "Python 3",
   "language": "python",
   "name": "python3"
  },
  "language_info": {
   "codemirror_mode": {
    "name": "ipython",
    "version": 3
   },
   "file_extension": ".py",
   "mimetype": "text/x-python",
   "name": "python",
   "nbconvert_exporter": "python",
   "pygments_lexer": "ipython3",
   "version": "3.10.1"
  },
  "orig_nbformat": 4,
  "vscode": {
   "interpreter": {
    "hash": "5ea1c175b39997c76b3d2f2c744133481baaa669943dd3e2da9ef8a500ea8a06"
   }
  }
 },
 "nbformat": 4,
 "nbformat_minor": 2
}
